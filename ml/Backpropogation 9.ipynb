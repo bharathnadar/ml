{
 "cells": [
  {
   "cell_type": "code",
   "execution_count": 1,
   "id": "33571f6e",
   "metadata": {},
   "outputs": [],
   "source": [
    "import numpy as np\n",
    "X = np.array(([2, 9], [1, 5], [3, 6]), dtype=float)\n",
    "y = np.array(([92], [86], [89]), dtype=float)\n",
    "X = X/np.amax(X,axis=0) #maximum of X array longitudinally\n",
    "y = y/100"
   ]
  },
  {
   "cell_type": "code",
   "execution_count": 24,
   "id": "5cc0e4c0",
   "metadata": {},
   "outputs": [],
   "source": [
    "def sigmoid (x):return 1/(1 + np.exp(-x))\n",
    "def derivative_sigmoid(x):x * (1-x)"
   ]
  },
  {
   "cell_type": "code",
   "execution_count": 11,
   "id": "0444b763",
   "metadata": {},
   "outputs": [],
   "source": [
    "epoch=5 #Setting training iterations \n",
    "lr=0.1 "
   ]
  },
  {
   "cell_type": "code",
   "execution_count": 12,
   "id": "bcf25a84",
   "metadata": {},
   "outputs": [],
   "source": [
    "inputlayer_neurons = 2 #number of features in data set\n",
    "hiddenlayer_neurons = 3 #number of hidden layers neurons\n",
    "output_neurons = 1 #number of neurons at output layer\n",
    "#weight and bias initialization"
   ]
  },
  {
   "cell_type": "code",
   "execution_count": 13,
   "id": "5815fcc0",
   "metadata": {},
   "outputs": [],
   "source": [
    "wh=np.random.uniform(size=(inputlayer_neurons,hiddenlayer_neurons))\n",
    "bh=np.random.uniform(size=(1,hiddenlayer_neurons))\n",
    "wout=np.random.uniform(size=(hiddenlayer_neurons,output_neurons))\n",
    "bout=np.random.uniform(size=(1,output_neurons))"
   ]
  },
  {
   "cell_type": "code",
   "execution_count": 14,
   "id": "547b2467",
   "metadata": {},
   "outputs": [],
   "source": [
    "for i in range(epoch):\n",
    " #Forward Propogation\n",
    " hinp1=np.dot(X,wh)\n",
    " hinp=hinp1 + bh\n",
    " hlayer_act = sigmoid(hinp)\n",
    " outinp1=np.dot(hlayer_act,wout)\n",
    " outinp= outinp1+bout\n",
    " output = sigmoid(outinp)"
   ]
  },
  {
   "cell_type": "code",
   "execution_count": 20,
   "id": "11636f60",
   "metadata": {},
   "outputs": [],
   "source": [
    "EO = y-output\n",
    "outgrad = derivative_sigmoid(output)\n",
    "d_output = EO * outgrad\n",
    "EH = d_output.dot(wout.T)\n",
    "hiddengrad = derivative_sigmoid(hlayer_act)\n",
    "d_hiddenlayer = EH * hiddengrad\n"
   ]
  },
  {
   "cell_type": "code",
   "execution_count": 21,
   "id": "7b5ef284",
   "metadata": {},
   "outputs": [],
   "source": [
    "wout += hlayer_act.T.dot(d_output) *lr # dotproduct ofnextlayererror and currentlayerop\n",
    "wh += X.T.dot(d_hiddenlayer) *lr"
   ]
  },
  {
   "cell_type": "code",
   "execution_count": 22,
   "id": "68970c24",
   "metadata": {},
   "outputs": [
    {
     "name": "stdout",
     "output_type": "stream",
     "text": [
      "-----------Epoch- 5 Starts----------\n",
      "Input: \n",
      "[[0.66666667 1.        ]\n",
      " [0.33333333 0.55555556]\n",
      " [1.         0.66666667]]\n",
      "Actual Output: \n",
      "[[0.92]\n",
      " [0.86]\n",
      " [0.89]]\n",
      "Predicted Output: \n",
      " [[0.83834298]\n",
      " [0.8280398 ]\n",
      " [0.83583363]]\n",
      "-----------Epoch- 5 Ends----------\n",
      "\n"
     ]
    }
   ],
   "source": [
    "print (\"-----------Epoch-\", i+1, \"Starts----------\")\n",
    "print(\"Input: \\n\" + str(X))\n",
    "print(\"Actual Output: \\n\" + str(y))\n",
    "print(\"Predicted Output: \\n\" ,output)\n",
    "print (\"-----------Epoch-\", i+1, \"Ends----------\\n\")"
   ]
  },
  {
   "cell_type": "code",
   "execution_count": 27,
   "id": "64faa693",
   "metadata": {},
   "outputs": [
    {
     "name": "stdout",
     "output_type": "stream",
     "text": [
      "Input: \n",
      "[[0.66666667 1.        ]\n",
      " [0.33333333 0.55555556]\n",
      " [1.         0.66666667]]\n",
      "Actual Output: \n",
      "[[0.92]\n",
      " [0.86]\n",
      " [0.89]]\n",
      "Predicted Output: \n",
      " [[0.83834298]\n",
      " [0.8280398 ]\n",
      " [0.83583363]]\n"
     ]
    }
   ],
   "source": [
    "print(\"Input: \\n\" + str(X))\n",
    "print(\"Actual Output: \\n\" + str(y))\n",
    "print(\"Predicted Output: \\n\" ,output)"
   ]
  },
  {
   "cell_type": "code",
   "execution_count": null,
   "id": "56298025",
   "metadata": {},
   "outputs": [],
   "source": []
  }
 ],
 "metadata": {
  "kernelspec": {
   "display_name": "Python 3 (ipykernel)",
   "language": "python",
   "name": "python3"
  },
  "language_info": {
   "codemirror_mode": {
    "name": "ipython",
    "version": 3
   },
   "file_extension": ".py",
   "mimetype": "text/x-python",
   "name": "python",
   "nbconvert_exporter": "python",
   "pygments_lexer": "ipython3",
   "version": "3.10.9"
  }
 },
 "nbformat": 4,
 "nbformat_minor": 5
}
