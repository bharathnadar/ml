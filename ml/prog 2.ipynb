{
 "cells": [
  {
   "cell_type": "code",
   "execution_count": 4,
   "id": "7e2584ac",
   "metadata": {},
   "outputs": [
    {
     "name": "stdout",
     "output_type": "stream",
     "text": [
      "5\n",
      "1/2\n",
      "-2\n",
      "black\n"
     ]
    }
   ],
   "source": [
    "from statistics import Fraction as fr\n",
    "from statistics import mode\n",
    "import numpy as np\n",
    "import math\n",
    "import scipy\n",
    "# tuple of positive integer numbers\n",
    "data1 = (2, 3, 3, 4, 5, 5, 5, 5, 6, 6, 6, 7)\n",
    "\n",
    "# tuple of a set of fractional numbers\n",
    "data3 = (fr(1, 2), fr(1, 2), fr(10, 3), fr(2, 3))\n",
    "# tuple of a set of negative integers\n",
    "data4 = (-1, -2, -2, -2, -7, -7, -9)\n",
    "# tuple of strings\n",
    "data5 = (\"red\", \"blue\", \"black\", \"blue\", \"black\", \"black\", \"brown\")\n",
    "print(mode(data1))\n",
    "print(mode(data3))\n",
    "print(mode(data4))\n",
    "print(mode(data5))"
   ]
  },
  {
   "cell_type": "code",
   "execution_count": 11,
   "id": "96a7d5de",
   "metadata": {},
   "outputs": [
    {
     "name": "stdout",
     "output_type": "stream",
     "text": [
      "4.0\n"
     ]
    }
   ],
   "source": [
    "from scipy import special\n",
    "a= special.exp2(2)\n",
    "print(a)\n"
   ]
  },
  {
   "cell_type": "code",
   "execution_count": 3,
   "id": "5cde5ebb",
   "metadata": {},
   "outputs": [
    {
     "name": "stdout",
     "output_type": "stream",
     "text": [
      "0.49999999999999994\n"
     ]
    }
   ],
   "source": [
    "b=special.sindg(30)\n",
    "print(b)"
   ]
  },
  {
   "cell_type": "code",
   "execution_count": 4,
   "id": "b7bcbf46",
   "metadata": {},
   "outputs": [
    {
     "data": {
      "text/plain": [
       "array([[ 1,  2],\n",
       "       [ 3,  4],\n",
       "       [12, 30]])"
      ]
     },
     "execution_count": 4,
     "metadata": {},
     "output_type": "execute_result"
    }
   ],
   "source": [
    "x=np.array([[1,2],[3,4]])\n",
    "y=np.array([[12,30]])\n",
    "z=np.concatenate((x,y))\n",
    "z "
   ]
  },
  {
   "cell_type": "code",
   "execution_count": 5,
   "id": "2b7ed0ec",
   "metadata": {},
   "outputs": [
    {
     "name": "stdout",
     "output_type": "stream",
     "text": [
      "5\n"
     ]
    }
   ],
   "source": [
    "gcd = math.gcd(25, 120)\n",
    "print(gcd)"
   ]
  },
  {
   "cell_type": "code",
   "execution_count": 6,
   "id": "4c80c951",
   "metadata": {},
   "outputs": [
    {
     "name": "stdout",
     "output_type": "stream",
     "text": [
      "1st Input array :  [[ 1 -3  4]\n",
      " [-1  3  0]]\n",
      "2nd Input array :  [[ 7  4 -2]\n",
      " [ 3  6  8]]\n",
      "output added array :  [[8 1 2]\n",
      " [2 9 8]]\n"
     ]
    }
   ],
   "source": [
    "array1 = np.array([[1, -3, 4], [-1, 3, 0]])\n",
    "array2 = np.array([[7, 4, -2], [3, 6, 8]])\n",
    "\n",
    "print (\"1st Input array : \", array1)\n",
    "print (\"2nd Input array : \", array2)\n",
    "\n",
    "out_array = np.add(array1, array2)\n",
    "print (\"output added array : \", out_array)"
   ]
  },
  {
   "cell_type": "code",
   "execution_count": 7,
   "id": "58c088a7",
   "metadata": {},
   "outputs": [
    {
     "name": "stdout",
     "output_type": "stream",
     "text": [
      "4.0\n"
     ]
    }
   ],
   "source": [
    "print(math.sqrt(16))"
   ]
  },
  {
   "cell_type": "code",
   "execution_count": 8,
   "id": "7e247f7f",
   "metadata": {},
   "outputs": [
    {
     "name": "stdout",
     "output_type": "stream",
     "text": [
      "1.1276259652063807\n",
      "0.5210953054937474\n",
      "0.46211715726000974\n"
     ]
    }
   ],
   "source": [
    "x = 0.5\n",
    "print(math.cosh(x))\n",
    "print(math.sinh(x))\n",
    "print(math.tanh(x))"
   ]
  },
  {
   "cell_type": "code",
   "execution_count": null,
   "id": "4840cd53",
   "metadata": {},
   "outputs": [],
   "source": []
  }
 ],
 "metadata": {
  "kernelspec": {
   "display_name": "Python 3 (ipykernel)",
   "language": "python",
   "name": "python3"
  },
  "language_info": {
   "codemirror_mode": {
    "name": "ipython",
    "version": 3
   },
   "file_extension": ".py",
   "mimetype": "text/x-python",
   "name": "python",
   "nbconvert_exporter": "python",
   "pygments_lexer": "ipython3",
   "version": "3.10.9"
  }
 },
 "nbformat": 4,
 "nbformat_minor": 5
}
