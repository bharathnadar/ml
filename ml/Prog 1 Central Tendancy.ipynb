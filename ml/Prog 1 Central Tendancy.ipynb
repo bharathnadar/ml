{
 "cells": [
  {
   "cell_type": "code",
   "execution_count": 3,
   "id": "899ea003",
   "metadata": {},
   "outputs": [],
   "source": [
    "import math   \n",
    "import numpy as np\n",
    "import pandas as pd\n",
    "from scipy import stats\n",
    "import os"
   ]
  },
  {
   "cell_type": "code",
   "execution_count": 4,
   "id": "f59e6a11",
   "metadata": {},
   "outputs": [],
   "source": [
    "matches = pd.read_csv('matches.csv')"
   ]
  },
  {
   "cell_type": "code",
   "execution_count": 5,
   "id": "3afe89b5",
   "metadata": {},
   "outputs": [
    {
     "name": "stdout",
     "output_type": "stream",
     "text": [
      "Number of rows = 756\n",
      "Number of columns = 18\n"
     ]
    },
    {
     "data": {
      "text/html": [
       "<div>\n",
       "<style scoped>\n",
       "    .dataframe tbody tr th:only-of-type {\n",
       "        vertical-align: middle;\n",
       "    }\n",
       "\n",
       "    .dataframe tbody tr th {\n",
       "        vertical-align: top;\n",
       "    }\n",
       "\n",
       "    .dataframe thead th {\n",
       "        text-align: right;\n",
       "    }\n",
       "</style>\n",
       "<table border=\"1\" class=\"dataframe\">\n",
       "  <thead>\n",
       "    <tr style=\"text-align: right;\">\n",
       "      <th></th>\n",
       "      <th>id</th>\n",
       "      <th>season</th>\n",
       "      <th>city</th>\n",
       "      <th>date</th>\n",
       "      <th>team1</th>\n",
       "      <th>team2</th>\n",
       "      <th>toss_winner</th>\n",
       "      <th>toss_decision</th>\n",
       "      <th>result</th>\n",
       "      <th>dl_applied</th>\n",
       "      <th>winner</th>\n",
       "      <th>win_by_runs</th>\n",
       "      <th>win_by_wickets</th>\n",
       "      <th>player_of_match</th>\n",
       "      <th>venue</th>\n",
       "      <th>umpire1</th>\n",
       "      <th>umpire2</th>\n",
       "      <th>umpire3</th>\n",
       "    </tr>\n",
       "  </thead>\n",
       "  <tbody>\n",
       "    <tr>\n",
       "      <th>0</th>\n",
       "      <td>1</td>\n",
       "      <td>2017</td>\n",
       "      <td>Hyderabad</td>\n",
       "      <td>05-04-2017</td>\n",
       "      <td>Sunrisers Hyderabad</td>\n",
       "      <td>Royal Challengers Bangalore</td>\n",
       "      <td>Royal Challengers Bangalore</td>\n",
       "      <td>field</td>\n",
       "      <td>normal</td>\n",
       "      <td>0</td>\n",
       "      <td>Sunrisers Hyderabad</td>\n",
       "      <td>35</td>\n",
       "      <td>0</td>\n",
       "      <td>Yuvraj Singh</td>\n",
       "      <td>Rajiv Gandhi International Stadium, Uppal</td>\n",
       "      <td>AY Dandekar</td>\n",
       "      <td>NJ Llong</td>\n",
       "      <td>NaN</td>\n",
       "    </tr>\n",
       "    <tr>\n",
       "      <th>1</th>\n",
       "      <td>2</td>\n",
       "      <td>2017</td>\n",
       "      <td>Pune</td>\n",
       "      <td>06-04-2017</td>\n",
       "      <td>Mumbai Indians</td>\n",
       "      <td>Rising Pune Supergiant</td>\n",
       "      <td>Rising Pune Supergiant</td>\n",
       "      <td>field</td>\n",
       "      <td>normal</td>\n",
       "      <td>0</td>\n",
       "      <td>Rising Pune Supergiant</td>\n",
       "      <td>0</td>\n",
       "      <td>7</td>\n",
       "      <td>SPD Smith</td>\n",
       "      <td>Maharashtra Cricket Association Stadium</td>\n",
       "      <td>A Nand Kishore</td>\n",
       "      <td>S Ravi</td>\n",
       "      <td>NaN</td>\n",
       "    </tr>\n",
       "    <tr>\n",
       "      <th>2</th>\n",
       "      <td>3</td>\n",
       "      <td>2017</td>\n",
       "      <td>Rajkot</td>\n",
       "      <td>07-04-2017</td>\n",
       "      <td>Gujarat Lions</td>\n",
       "      <td>Kolkata Knight Riders</td>\n",
       "      <td>Kolkata Knight Riders</td>\n",
       "      <td>field</td>\n",
       "      <td>normal</td>\n",
       "      <td>0</td>\n",
       "      <td>Kolkata Knight Riders</td>\n",
       "      <td>0</td>\n",
       "      <td>10</td>\n",
       "      <td>CA Lynn</td>\n",
       "      <td>Saurashtra Cricket Association Stadium</td>\n",
       "      <td>Nitin Menon</td>\n",
       "      <td>CK Nandan</td>\n",
       "      <td>NaN</td>\n",
       "    </tr>\n",
       "    <tr>\n",
       "      <th>3</th>\n",
       "      <td>4</td>\n",
       "      <td>2017</td>\n",
       "      <td>Indore</td>\n",
       "      <td>08-04-2017</td>\n",
       "      <td>Rising Pune Supergiant</td>\n",
       "      <td>Kings XI Punjab</td>\n",
       "      <td>Kings XI Punjab</td>\n",
       "      <td>field</td>\n",
       "      <td>normal</td>\n",
       "      <td>0</td>\n",
       "      <td>Kings XI Punjab</td>\n",
       "      <td>0</td>\n",
       "      <td>6</td>\n",
       "      <td>GJ Maxwell</td>\n",
       "      <td>Holkar Cricket Stadium</td>\n",
       "      <td>AK Chaudhary</td>\n",
       "      <td>C Shamshuddin</td>\n",
       "      <td>NaN</td>\n",
       "    </tr>\n",
       "    <tr>\n",
       "      <th>4</th>\n",
       "      <td>5</td>\n",
       "      <td>2017</td>\n",
       "      <td>Bangalore</td>\n",
       "      <td>08-04-2017</td>\n",
       "      <td>Royal Challengers Bangalore</td>\n",
       "      <td>Delhi Daredevils</td>\n",
       "      <td>Royal Challengers Bangalore</td>\n",
       "      <td>bat</td>\n",
       "      <td>normal</td>\n",
       "      <td>0</td>\n",
       "      <td>Royal Challengers Bangalore</td>\n",
       "      <td>15</td>\n",
       "      <td>0</td>\n",
       "      <td>KM Jadhav</td>\n",
       "      <td>M Chinnaswamy Stadium</td>\n",
       "      <td>NaN</td>\n",
       "      <td>NaN</td>\n",
       "      <td>NaN</td>\n",
       "    </tr>\n",
       "  </tbody>\n",
       "</table>\n",
       "</div>"
      ],
      "text/plain": [
       "   id  season       city        date                        team1   \n",
       "0   1    2017  Hyderabad  05-04-2017          Sunrisers Hyderabad  \\\n",
       "1   2    2017       Pune  06-04-2017               Mumbai Indians   \n",
       "2   3    2017     Rajkot  07-04-2017                Gujarat Lions   \n",
       "3   4    2017     Indore  08-04-2017       Rising Pune Supergiant   \n",
       "4   5    2017  Bangalore  08-04-2017  Royal Challengers Bangalore   \n",
       "\n",
       "                         team2                  toss_winner toss_decision   \n",
       "0  Royal Challengers Bangalore  Royal Challengers Bangalore         field  \\\n",
       "1       Rising Pune Supergiant       Rising Pune Supergiant         field   \n",
       "2        Kolkata Knight Riders        Kolkata Knight Riders         field   \n",
       "3              Kings XI Punjab              Kings XI Punjab         field   \n",
       "4             Delhi Daredevils  Royal Challengers Bangalore           bat   \n",
       "\n",
       "   result  dl_applied                       winner  win_by_runs   \n",
       "0  normal           0          Sunrisers Hyderabad           35  \\\n",
       "1  normal           0       Rising Pune Supergiant            0   \n",
       "2  normal           0        Kolkata Knight Riders            0   \n",
       "3  normal           0              Kings XI Punjab            0   \n",
       "4  normal           0  Royal Challengers Bangalore           15   \n",
       "\n",
       "   win_by_wickets player_of_match                                      venue   \n",
       "0               0    Yuvraj Singh  Rajiv Gandhi International Stadium, Uppal  \\\n",
       "1               7       SPD Smith    Maharashtra Cricket Association Stadium   \n",
       "2              10         CA Lynn     Saurashtra Cricket Association Stadium   \n",
       "3               6      GJ Maxwell                     Holkar Cricket Stadium   \n",
       "4               0       KM Jadhav                      M Chinnaswamy Stadium   \n",
       "\n",
       "          umpire1        umpire2 umpire3  \n",
       "0     AY Dandekar       NJ Llong     NaN  \n",
       "1  A Nand Kishore         S Ravi     NaN  \n",
       "2     Nitin Menon      CK Nandan     NaN  \n",
       "3    AK Chaudhary  C Shamshuddin     NaN  \n",
       "4             NaN            NaN     NaN  "
      ]
     },
     "execution_count": 5,
     "metadata": {},
     "output_type": "execute_result"
    }
   ],
   "source": [
    "print(f'Number of rows = {len(matches)}')\n",
    "print(f'Number of columns = {len(matches.columns)}')\n",
    "matches.head()"
   ]
  },
  {
   "cell_type": "code",
   "execution_count": 6,
   "id": "eafa4e5d",
   "metadata": {},
   "outputs": [
    {
     "name": "stdout",
     "output_type": "stream",
     "text": [
      "Number of rows = 337\n"
     ]
    },
    {
     "data": {
      "text/plain": [
       "0     35\n",
       "4     15\n",
       "8     97\n",
       "13    17\n",
       "14    51\n",
       "Name: win_by_runs, dtype: int64"
      ]
     },
     "execution_count": 6,
     "metadata": {},
     "output_type": "execute_result"
    }
   ],
   "source": [
    "win_by_runs_data = matches[matches['win_by_runs'] > 0].win_by_runs\n",
    "print(f'Number of rows = {len(win_by_runs_data)}')\n",
    "win_by_runs_data.head()\n"
   ]
  },
  {
   "cell_type": "code",
   "execution_count": 7,
   "id": "ff5e35fe",
   "metadata": {},
   "outputs": [],
   "source": [
    "win_by_runs_rows = len(win_by_runs_data) # No. of values in the set(n)\n",
    "win_by_runs_sum = sum(win_by_runs_data) # Sum of all numbers"
   ]
  },
  {
   "cell_type": "code",
   "execution_count": 8,
   "id": "c7150301",
   "metadata": {},
   "outputs": [
    {
     "name": "stdout",
     "output_type": "stream",
     "text": [
      "Sum of all numbers = 10042, No. of values in the set = 337\n"
     ]
    }
   ],
   "source": [
    "print(f'Sum of all numbers = {win_by_runs_sum}, No. of values in the set = {win_by_runs_rows}')"
   ]
  },
  {
   "cell_type": "code",
   "execution_count": 9,
   "id": "14b3459e",
   "metadata": {},
   "outputs": [
    {
     "name": "stdout",
     "output_type": "stream",
     "text": [
      "Arithmetic mean = 29.798219584569733\n"
     ]
    }
   ],
   "source": [
    "win_by_runs_arithmetic_mean = win_by_runs_sum / win_by_runs_rows #Calculating arithmetic mean\n",
    "print(f'Arithmetic mean = {win_by_runs_arithmetic_mean}')"
   ]
  },
  {
   "cell_type": "code",
   "execution_count": 10,
   "id": "c2069a45",
   "metadata": {},
   "outputs": [
    {
     "name": "stdout",
     "output_type": "stream",
     "text": [
      "[35, 15, 97, 17, 51, 27, 5, 21, 15, 14]\n",
      "[5, 14, 15, 15, 17, 21, 27, 35, 51, 97]\n"
     ]
    }
   ],
   "source": [
    "win_by_runs_10 = list(win_by_runs_data[:10])\n",
    "print(win_by_runs_10)\n",
    "print(sorted(win_by_runs_10))"
   ]
  },
  {
   "cell_type": "code",
   "execution_count": 11,
   "id": "58bc0e5b",
   "metadata": {},
   "outputs": [
    {
     "name": "stdout",
     "output_type": "stream",
     "text": [
      "Median (first 10) = 19.0\n"
     ]
    }
   ],
   "source": [
    "win_by_runs_10_median = win_by_runs_data[:10].median()\n",
    "print(f'Median (first 10) = {win_by_runs_10_median}')"
   ]
  },
  {
   "cell_type": "code",
   "execution_count": 12,
   "id": "9a4eaf60",
   "metadata": {},
   "outputs": [
    {
     "name": "stdout",
     "output_type": "stream",
     "text": [
      "Median = 22.0\n"
     ]
    }
   ],
   "source": [
    "win_by_runs_median = win_by_runs_data.median()\n",
    "print(f'Median = {win_by_runs_median}')"
   ]
  },
  {
   "cell_type": "code",
   "execution_count": 13,
   "id": "afab4115",
   "metadata": {},
   "outputs": [
    {
     "data": {
      "text/plain": [
       "win_by_runs\n",
       "14    13\n",
       "10    11\n",
       "4     11\n",
       "1     10\n",
       "23     9\n",
       "Name: count, dtype: int64"
      ]
     },
     "execution_count": 13,
     "metadata": {},
     "output_type": "execute_result"
    }
   ],
   "source": [
    "# Retrieve frequency (sorted, descending order)\n",
    "win_by_runs_data.value_counts(sort=True, ascending=False).head()"
   ]
  },
  {
   "cell_type": "code",
   "execution_count": 14,
   "id": "516772a0",
   "metadata": {},
   "outputs": [
    {
     "name": "stdout",
     "output_type": "stream",
     "text": [
      "Mode = [14]\n"
     ]
    }
   ],
   "source": [
    "win_by_runs_data_mode = win_by_runs_data.mode()\n",
    "print(f'Mode = {list(win_by_runs_data_mode)}')"
   ]
  },
  {
   "cell_type": "code",
   "execution_count": 15,
   "id": "7bf55536",
   "metadata": {},
   "outputs": [
    {
     "name": "stdout",
     "output_type": "stream",
     "text": [
      "Number of rows = 406\n"
     ]
    },
    {
     "data": {
      "text/plain": [
       "1     7\n",
       "2    10\n",
       "3     6\n",
       "5     9\n",
       "6     4\n",
       "Name: win_by_wickets, dtype: int64"
      ]
     },
     "execution_count": 15,
     "metadata": {},
     "output_type": "execute_result"
    }
   ],
   "source": [
    "win_by_wickets_data = matches[matches.win_by_wickets >0].win_by_wickets\n",
    "print(f'Number of rows = {len(win_by_wickets_data)}')\n",
    "win_by_wickets_data.head()"
   ]
  },
  {
   "cell_type": "code",
   "execution_count": 16,
   "id": "5e8af7dc",
   "metadata": {},
   "outputs": [
    {
     "name": "stdout",
     "output_type": "stream",
     "text": [
      "Mean = 6.238916256157635\n"
     ]
    }
   ],
   "source": [
    "# Step 1: calculate mean(μ)\n",
    "win_by_wickets_mean = win_by_wickets_data.mean()\n",
    "print(f'Mean = {win_by_wickets_mean}')"
   ]
  },
  {
   "cell_type": "code",
   "execution_count": 17,
   "id": "4c7d611d",
   "metadata": {},
   "outputs": [
    {
     "name": "stdout",
     "output_type": "stream",
     "text": [
      "var_numerator = 1349.825123152706\n"
     ]
    }
   ],
   "source": [
    "# Step 2: calculate numerator part - sum of (x - mean)\n",
    "win_by_wickets_var_numerator = sum([(x - win_by_wickets_mean) ** 2 for x in win_by_wickets_data])\n",
    "print(f'var_numerator = {win_by_wickets_var_numerator}')"
   ]
  },
  {
   "cell_type": "code",
   "execution_count": 18,
   "id": "13dd9b82",
   "metadata": {},
   "outputs": [
    {
     "name": "stdout",
     "output_type": "stream",
     "text": [
      "Variance = 3.3246924215583893\n"
     ]
    }
   ],
   "source": [
    "# Step 3: calculate variane\n",
    "win_by_wickets_variance = win_by_wickets_var_numerator / len(win_by_wickets_data)\n",
    "print(f'Variance = {win_by_wickets_variance}')"
   ]
  },
  {
   "cell_type": "code",
   "execution_count": 19,
   "id": "b014cea5",
   "metadata": {},
   "outputs": [
    {
     "name": "stdout",
     "output_type": "stream",
     "text": [
      "Standard deviation = 1.8233739116150558\n"
     ]
    }
   ],
   "source": [
    "# Step 4: calculate standard deviation\n",
    "win_by_wickets_standard_deviation = math.sqrt(win_by_wickets_variance)\n",
    "print(f'Standard deviation = {win_by_wickets_standard_deviation}')"
   ]
  },
  {
   "cell_type": "code",
   "execution_count": 18,
   "id": "574b25e5",
   "metadata": {},
   "outputs": [
    {
     "name": "stdout",
     "output_type": "stream",
     "text": [
      "Standard deviation = 1.823373911615058\n"
     ]
    }
   ],
   "source": [
    "win_by_wickets_standard_deviation_verify = win_by_wickets_data.std(ddof = 0)\n",
    "print(f'Standard deviation = {win_by_wickets_standard_deviation_verify}')"
   ]
  }
 ],
 "metadata": {
  "kernelspec": {
   "display_name": "Python 3 (ipykernel)",
   "language": "python",
   "name": "python3"
  },
  "language_info": {
   "codemirror_mode": {
    "name": "ipython",
    "version": 3
   },
   "file_extension": ".py",
   "mimetype": "text/x-python",
   "name": "python",
   "nbconvert_exporter": "python",
   "pygments_lexer": "ipython3",
   "version": "3.10.9"
  }
 },
 "nbformat": 4,
 "nbformat_minor": 5
}
